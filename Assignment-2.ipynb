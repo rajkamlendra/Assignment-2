{
 "cells": [
  {
   "cell_type": "code",
   "execution_count": 1,
   "metadata": {},
   "outputs": [],
   "source": [
    "import matplotlib.pyplot as plt\n",
    "import numpy as np\n",
    "import pandas as pd\n",
    "%matplotlib inline\n",
    "import seaborn as sns\n",
    "from numpy.random import randn, randint, uniform, sample"
   ]
  },
  {
   "cell_type": "code",
   "execution_count": 2,
   "metadata": {},
   "outputs": [
    {
     "data": {
      "text/html": [
       "<div>\n",
       "<style scoped>\n",
       "    .dataframe tbody tr th:only-of-type {\n",
       "        vertical-align: middle;\n",
       "    }\n",
       "\n",
       "    .dataframe tbody tr th {\n",
       "        vertical-align: top;\n",
       "    }\n",
       "\n",
       "    .dataframe thead th {\n",
       "        text-align: right;\n",
       "    }\n",
       "</style>\n",
       "<table border=\"1\" class=\"dataframe\">\n",
       "  <thead>\n",
       "    <tr style=\"text-align: right;\">\n",
       "      <th></th>\n",
       "      <th>a</th>\n",
       "      <th>b</th>\n",
       "      <th>c</th>\n",
       "      <th>d</th>\n",
       "    </tr>\n",
       "  </thead>\n",
       "  <tbody>\n",
       "    <tr>\n",
       "      <th>0</th>\n",
       "      <td>-0.796296</td>\n",
       "      <td>-0.672293</td>\n",
       "      <td>-0.860558</td>\n",
       "      <td>-0.090902</td>\n",
       "    </tr>\n",
       "    <tr>\n",
       "      <th>1</th>\n",
       "      <td>-0.332634</td>\n",
       "      <td>-1.255708</td>\n",
       "      <td>-1.000558</td>\n",
       "      <td>1.848968</td>\n",
       "    </tr>\n",
       "    <tr>\n",
       "      <th>2</th>\n",
       "      <td>0.506118</td>\n",
       "      <td>0.311457</td>\n",
       "      <td>-0.081831</td>\n",
       "      <td>0.767489</td>\n",
       "    </tr>\n",
       "    <tr>\n",
       "      <th>3</th>\n",
       "      <td>-0.075511</td>\n",
       "      <td>-0.020251</td>\n",
       "      <td>-1.375638</td>\n",
       "      <td>0.884125</td>\n",
       "    </tr>\n",
       "    <tr>\n",
       "      <th>4</th>\n",
       "      <td>1.157586</td>\n",
       "      <td>1.483791</td>\n",
       "      <td>0.295276</td>\n",
       "      <td>0.667984</td>\n",
       "    </tr>\n",
       "    <tr>\n",
       "      <th>5</th>\n",
       "      <td>-0.110373</td>\n",
       "      <td>-0.739140</td>\n",
       "      <td>-1.200472</td>\n",
       "      <td>0.929564</td>\n",
       "    </tr>\n",
       "    <tr>\n",
       "      <th>6</th>\n",
       "      <td>-0.016546</td>\n",
       "      <td>0.462001</td>\n",
       "      <td>0.577311</td>\n",
       "      <td>-0.118821</td>\n",
       "    </tr>\n",
       "    <tr>\n",
       "      <th>7</th>\n",
       "      <td>-1.544378</td>\n",
       "      <td>-0.907133</td>\n",
       "      <td>-3.277977</td>\n",
       "      <td>1.158061</td>\n",
       "    </tr>\n",
       "    <tr>\n",
       "      <th>8</th>\n",
       "      <td>-1.123691</td>\n",
       "      <td>-1.291217</td>\n",
       "      <td>-0.609732</td>\n",
       "      <td>0.450347</td>\n",
       "    </tr>\n",
       "    <tr>\n",
       "      <th>9</th>\n",
       "      <td>-0.013197</td>\n",
       "      <td>0.505179</td>\n",
       "      <td>0.153565</td>\n",
       "      <td>-0.943163</td>\n",
       "    </tr>\n",
       "  </tbody>\n",
       "</table>\n",
       "</div>"
      ],
      "text/plain": [
       "          a         b         c         d\n",
       "0 -0.796296 -0.672293 -0.860558 -0.090902\n",
       "1 -0.332634 -1.255708 -1.000558  1.848968\n",
       "2  0.506118  0.311457 -0.081831  0.767489\n",
       "3 -0.075511 -0.020251 -1.375638  0.884125\n",
       "4  1.157586  1.483791  0.295276  0.667984\n",
       "5 -0.110373 -0.739140 -1.200472  0.929564\n",
       "6 -0.016546  0.462001  0.577311 -0.118821\n",
       "7 -1.544378 -0.907133 -3.277977  1.158061\n",
       "8 -1.123691 -1.291217 -0.609732  0.450347\n",
       "9 -0.013197  0.505179  0.153565 -0.943163"
      ]
     },
     "execution_count": 2,
     "metadata": {},
     "output_type": "execute_result"
    }
   ],
   "source": [
    "df = pd.DataFrame(randn(10,4),columns=['a','b','c','d'])\n",
    "df"
   ]
  },
  {
   "cell_type": "code",
   "execution_count": 3,
   "metadata": {},
   "outputs": [
    {
     "data": {
      "text/plain": [
       "<matplotlib.axes._subplots.AxesSubplot at 0x235211e92e8>"
      ]
     },
     "execution_count": 3,
     "metadata": {},
     "output_type": "execute_result"
    },
    {
     "data": {
      "image/png": "[encoded data removed]",
      "text/plain": [
       "<Figure size 720x720 with 1 Axes>"
      ]
     },
     "metadata": {
      "needs_background": "light"
     },
     "output_type": "display_data"
    }
   ],
   "source": [
    "df.plot(kind='bar',title='Bar Chart',figsize=(10,10),grid=True,legend = True)"
   ]
  },
  {
   "cell_type": "code",
   "execution_count": null,
   "metadata": {},
   "outputs": [],
   "source": []
  }
 ],
 "metadata": {
  "kernelspec": {
   "display_name": "Python 3",
   "language": "python",
   "name": "python3"
  },
  "language_info": {
   "codemirror_mode": {
    "name": "ipython",
    "version": 3
   },
   "file_extension": ".py",
   "mimetype": "text/x-python",
   "name": "python",
   "nbconvert_exporter": "python",
   "pygments_lexer": "ipython3",
   "version": "3.7.3"
  }
 },
 "nbformat": 4,
 "nbformat_minor": 2
}
